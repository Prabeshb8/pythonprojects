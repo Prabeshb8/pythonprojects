{
 "cells": [
  {
   "cell_type": "code",
   "execution_count": 25,
   "metadata": {},
   "outputs": [
    {
     "name": "stdout",
     "output_type": "stream",
     "text": [
      "The Wire\n",
      "The Wire\n",
      "The Wire\n",
      "The Wire\n",
      "The Wire\n",
      "The Wire\n",
      "The Wire\n"
     ]
    }
   ],
   "source": [
    "tv_shows = {\n",
    "    \"HBO\": {'The Sopranos': 9.2, 'The Wire': 9.3, 'Band of Brothers': 9.5, 'Game of Thrones': 9.5},\n",
    "    \"AMC\": {\"Breaking Bad\":9.5, \"Better Call Saul\":8.7, \"The Walking Dead\":8.5}\n",
    "}\n",
    "for k,v in tv_shows.items():\n",
    "    for i,j in v.items():\n",
    "            def number (z):    #i=z\n",
    "                switcher ={0:\"The Sopranos\",\n",
    "                          1:\"The Wire\",\n",
    "                          2:\"Band of Brothers\",\n",
    "                          3:\"Game of Thrones\"}\n",
    "                return switcher.get(z,\"invalid args\")  #(tv_shows[\"AMC\"])\n",
    "            print(number(1))\n",
    "            "
   ]
  },
  {
   "cell_type": "code",
   "execution_count": 39,
   "metadata": {},
   "outputs": [
    {
     "name": "stdout",
     "output_type": "stream",
     "text": [
      "enter ur choice i.e either shows ,ratingrating\n",
      "9.2\n",
      "9.3\n",
      "9.5\n",
      "9.5\n",
      "9.5\n",
      "8.7\n",
      "8.5\n"
     ]
    }
   ],
   "source": [
    "tv_shows = {\n",
    "    \"HBO\": {'The Sopranos': 9.2, 'The Wire': 9.3, 'Band of Brothers': 9.5, 'Game of Thrones': 9.5},\n",
    "    \"AMC\": {\"Breaking Bad\":9.5, \"Better Call Saul\":8.7, \"The Walking Dead\":8.5}\n",
    "}\n",
    "var=input(\"enter ur choice i.e either shows ,rating\")\n",
    "\n",
    "for k,v in tv_shows.items():\n",
    "    for i,j in v.items():\n",
    "        if var == \"shows\":\n",
    "            print(i)\n",
    "           \n",
    "        elif  var == \"rating\":\n",
    "            print(j)\n",
    "        else:\n",
    "            print(\"invalid args\")"
   ]
  },
  {
   "cell_type": "code",
   "execution_count": 38,
   "metadata": {},
   "outputs": [
    {
     "name": "stdout",
     "output_type": "stream",
     "text": [
      "1\n"
     ]
    }
   ],
   "source": [
    "def f(x):\n",
    "    return {\n",
    "        'a': 1,\n",
    "        'b': 2\n",
    "    }.get(x, 9)\n",
    "print(f('a'))\n"
   ]
  },
  {
   "cell_type": "code",
   "execution_count": null,
   "metadata": {},
   "outputs": [],
   "source": []
  }
 ],
 "metadata": {
  "kernelspec": {
   "display_name": "Python 3",
   "language": "python",
   "name": "python3"
  },
  "language_info": {
   "codemirror_mode": {
    "name": "ipython",
    "version": 3
   },
   "file_extension": ".py",
   "mimetype": "text/x-python",
   "name": "python",
   "nbconvert_exporter": "python",
   "pygments_lexer": "ipython3",
   "version": "3.7.0"
  }
 },
 "nbformat": 4,
 "nbformat_minor": 2
}
